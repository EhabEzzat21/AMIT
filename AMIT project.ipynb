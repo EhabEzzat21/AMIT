{
 "cells": [
  {
   "cell_type": "code",
   "execution_count": null,
   "id": "e8ea3f6a",
   "metadata": {},
   "outputs": [
    {
     "name": "stdout",
     "output_type": "stream",
     "text": [
      "Enter the data to calculate the gravititional force with the law {G*M*m/(r**2)}\n"
     ]
    }
   ],
   "source": [
    "print(\"Enter the data to calculate the gravititional force with the law {G*M*m/(r**2)}\")\n",
    "\n",
    "G = float(input(\"G = \"))\n",
    "M = float(input(\"M = \"))\n",
    "m = float(input(\"m = \"))\n",
    "r = float(input(\"r = \"))\n",
    "\n",
    "G = G*(10**-11)\n",
    "M = M*(10**24)\n",
    "m = m*(10**22)\n",
    "r = r*(10**8)\n",
    "\n",
    "Fg = G*M*m/(r**2)\n",
    "print(\"Fg =\",Fg)"
   ]
  },
  {
   "cell_type": "code",
   "execution_count": null,
   "id": "e049557f",
   "metadata": {},
   "outputs": [],
   "source": []
  }
 ],
 "metadata": {
  "kernelspec": {
   "display_name": "Python 3 (ipykernel)",
   "language": "python",
   "name": "python3"
  },
  "language_info": {
   "codemirror_mode": {
    "name": "ipython",
    "version": 3
   },
   "file_extension": ".py",
   "mimetype": "text/x-python",
   "name": "python",
   "nbconvert_exporter": "python",
   "pygments_lexer": "ipython3",
   "version": "3.10.9"
  }
 },
 "nbformat": 4,
 "nbformat_minor": 5
}
